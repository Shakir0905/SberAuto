{
 "cells": [
  {
   "cell_type": "code",
   "execution_count": null,
   "metadata": {},
   "outputs": [
    {
     "ename": "",
     "evalue": "",
     "output_type": "error",
     "traceback": [
      "\u001b[1;31mThe kernel failed to start as 'cookies' could not be imported from 'most likely due to a circular import'.\n",
      "\u001b[1;31mClick <a href='https://aka.ms/kernelFailuresModuleImportErrFromFile'>here</a> for more info."
     ]
    }
   ],
   "source": [
    "from data_processing import *"
   ]
  },
  {
   "cell_type": "code",
   "execution_count": null,
   "metadata": {},
   "outputs": [
    {
     "ename": "",
     "evalue": "",
     "output_type": "error",
     "traceback": [
      "\u001b[1;31mThe kernel failed to start as 'cookies' could not be imported from 'most likely due to a circular import'.\n",
      "\u001b[1;31mClick <a href='https://aka.ms/kernelFailuresModuleImportErrFromFile'>here</a> for more info."
     ]
    }
   ],
   "source": [
    "import os\n",
    "print(os.getcwd())"
   ]
  },
  {
   "cell_type": "code",
   "execution_count": 3,
   "metadata": {},
   "outputs": [
    {
     "name": "stdout",
     "output_type": "stream",
     "text": [
      "H:\\\n"
     ]
    }
   ],
   "source": [
    "import os\n",
    "\n",
    "# Перейти на диск H:\n",
    "os.chdir('H:\\\\')\n",
    "\n",
    "# Проверить текущий рабочий каталог\n",
    "print(os.getcwd())"
   ]
  },
  {
   "cell_type": "code",
   "execution_count": 4,
   "metadata": {},
   "outputs": [
    {
     "name": "stdout",
     "output_type": "stream",
     "text": [
      "Active code page: 65001\n",
      "H:\\Мой диск\n",
      " Volume in drive H is sanyasmirnov09051998@gmail.co...\n",
      " Volume Serial Number is 1983-1116\n",
      "\n",
      " Directory of H:\\Мой диск\n",
      "\n",
      "31.07.2023  15:30    <DIR>          .\n",
      "31.07.2023  15:30    <DIR>          ..\n",
      "08.07.2023  14:13    <DIR>          .ipynb_checkpoints\n",
      "31.07.2023  09:12    <DIR>          AI\n",
      "22.08.2021  19:51    <DIR>          Colab Notebooks\n",
      "08.07.2023  14:14    <DIR>          Docs\n",
      "26.10.2016  14:13    <DIR>          Google Фото\n",
      "31.07.2023  07:22       417 498 570 new_data2.csv\n",
      "               1 File(s)    417 498 570 bytes\n",
      "               7 Dir(s)   4 379 938 816 bytes free\n"
     ]
    }
   ],
   "source": [
    "!chcp 65001\n",
    "%cd Мой диск\"\n",
    "%ls"
   ]
  },
  {
   "cell_type": "code",
   "execution_count": 7,
   "metadata": {},
   "outputs": [
    {
     "name": "stdout",
     "output_type": "stream",
     "text": [
      "(1500000, 19)\n"
     ]
    }
   ],
   "source": [
    "# Shared link of the 'new_data2.csv' file on Google Drive\n",
    "file_url = r\"H:\\Мой диск\\new_data2.csv\"\n",
    "\n",
    "# Read the CSV file from the URL and create a DataFrame\n",
    "new_data = pd.read_csv(file_url).sample(n=1500000)\n",
    "\n",
    "print(new_data.shape)"
   ]
  },
  {
   "cell_type": "code",
   "execution_count": 8,
   "metadata": {},
   "outputs": [
    {
     "data": {
      "text/html": [
       "<div>\n",
       "<style scoped>\n",
       "    .dataframe tbody tr th:only-of-type {\n",
       "        vertical-align: middle;\n",
       "    }\n",
       "\n",
       "    .dataframe tbody tr th {\n",
       "        vertical-align: top;\n",
       "    }\n",
       "\n",
       "    .dataframe thead th {\n",
       "        text-align: right;\n",
       "    }\n",
       "</style>\n",
       "<table border=\"1\" class=\"dataframe\">\n",
       "  <thead>\n",
       "    <tr style=\"text-align: right;\">\n",
       "      <th></th>\n",
       "      <th>session_id</th>\n",
       "      <th>client_id</th>\n",
       "      <th>visit_number</th>\n",
       "      <th>utm_source</th>\n",
       "      <th>utm_medium</th>\n",
       "      <th>utm_campaign</th>\n",
       "      <th>utm_adcontent</th>\n",
       "      <th>device_category</th>\n",
       "      <th>device_brand</th>\n",
       "      <th>device_screen_resolution</th>\n",
       "      <th>device_browser</th>\n",
       "      <th>geo_city</th>\n",
       "      <th>event_action</th>\n",
       "      <th>visit_hour</th>\n",
       "      <th>part_of_day</th>\n",
       "      <th>day_of_week</th>\n",
       "      <th>is_weekend</th>\n",
       "      <th>visit_counts_by_source</th>\n",
       "      <th>preferred_utm_source</th>\n",
       "    </tr>\n",
       "  </thead>\n",
       "  <tbody>\n",
       "    <tr>\n",
       "      <th>1634675</th>\n",
       "      <td>7860603916475703280.1637099717.1637099717</td>\n",
       "      <td>1830189469.1637097456</td>\n",
       "      <td>Very Low</td>\n",
       "      <td>ZpYIoDJMcFzVoPFsHGJL</td>\n",
       "      <td>smartbanner</td>\n",
       "      <td>jqlUOdZBNZYfInQVcZlS</td>\n",
       "      <td>EteMoEECGsaJeMnuvAZD</td>\n",
       "      <td>mobile</td>\n",
       "      <td>Samsung</td>\n",
       "      <td>412x915</td>\n",
       "      <td>Chrome</td>\n",
       "      <td>Moscow</td>\n",
       "      <td>0</td>\n",
       "      <td>0</td>\n",
       "      <td>Night</td>\n",
       "      <td>2</td>\n",
       "      <td>0</td>\n",
       "      <td>3</td>\n",
       "      <td>ZpYIoDJMcFzVoPFsHGJL</td>\n",
       "    </tr>\n",
       "    <tr>\n",
       "      <th>1389837</th>\n",
       "      <td>6796535801928771632.1630693682.1630693682</td>\n",
       "      <td>1582441805.163056</td>\n",
       "      <td>Very Low</td>\n",
       "      <td>kjsLglQLzykiRbcDiGcD</td>\n",
       "      <td>organic</td>\n",
       "      <td>LTuZkdKfxRGVceoWkVyg</td>\n",
       "      <td>JNHcPlZPxEMWDnRiyoBf</td>\n",
       "      <td>mobile</td>\n",
       "      <td>Xiaomi</td>\n",
       "      <td>393x818</td>\n",
       "      <td>Chrome</td>\n",
       "      <td>(not set)</td>\n",
       "      <td>0</td>\n",
       "      <td>21</td>\n",
       "      <td>Evening</td>\n",
       "      <td>4</td>\n",
       "      <td>0</td>\n",
       "      <td>2</td>\n",
       "      <td>kjsLglQLzykiRbcDiGcD</td>\n",
       "    </tr>\n",
       "    <tr>\n",
       "      <th>1469550</th>\n",
       "      <td>7147666373554620872.1622821320.1622821320</td>\n",
       "      <td>1664195762.162282</td>\n",
       "      <td>Very Low</td>\n",
       "      <td>fDLlAcSmythWSCVMvqvL</td>\n",
       "      <td>(none)</td>\n",
       "      <td>LTuZkdKfxRGVceoWkVyg</td>\n",
       "      <td>JNHcPlZPxEMWDnRiyoBf</td>\n",
       "      <td>mobile</td>\n",
       "      <td>Apple</td>\n",
       "      <td>414x896</td>\n",
       "      <td>YaBrowser</td>\n",
       "      <td>Nizhny Novgorod</td>\n",
       "      <td>0</td>\n",
       "      <td>18</td>\n",
       "      <td>Afternoon</td>\n",
       "      <td>4</td>\n",
       "      <td>0</td>\n",
       "      <td>2</td>\n",
       "      <td>fDLlAcSmythWSCVMvqvL</td>\n",
       "    </tr>\n",
       "    <tr>\n",
       "      <th>722738</th>\n",
       "      <td>3902015431131403080.1622032689.1622032689</td>\n",
       "      <td>908508764.162202</td>\n",
       "      <td>Very Low</td>\n",
       "      <td>fDLlAcSmythWSCVMvqvL</td>\n",
       "      <td>(none)</td>\n",
       "      <td>LTuZkdKfxRGVceoWkVyg</td>\n",
       "      <td>JNHcPlZPxEMWDnRiyoBf</td>\n",
       "      <td>mobile</td>\n",
       "      <td>Xiaomi</td>\n",
       "      <td>360x640</td>\n",
       "      <td>Chrome</td>\n",
       "      <td>Yekaterinburg</td>\n",
       "      <td>0</td>\n",
       "      <td>15</td>\n",
       "      <td>Afternoon</td>\n",
       "      <td>2</td>\n",
       "      <td>0</td>\n",
       "      <td>5</td>\n",
       "      <td>fDLlAcSmythWSCVMvqvL</td>\n",
       "    </tr>\n",
       "    <tr>\n",
       "      <th>1612288</th>\n",
       "      <td>7761284726180810772.1621889045.1621889045</td>\n",
       "      <td>1807064918.1621888</td>\n",
       "      <td>Very Low</td>\n",
       "      <td>fDLlAcSmythWSCVMvqvL</td>\n",
       "      <td>(none)</td>\n",
       "      <td>LTuZkdKfxRGVceoWkVyg</td>\n",
       "      <td>JNHcPlZPxEMWDnRiyoBf</td>\n",
       "      <td>mobile</td>\n",
       "      <td>Apple</td>\n",
       "      <td>414x896</td>\n",
       "      <td>Safari</td>\n",
       "      <td>Moscow</td>\n",
       "      <td>0</td>\n",
       "      <td>23</td>\n",
       "      <td>Evening</td>\n",
       "      <td>0</td>\n",
       "      <td>0</td>\n",
       "      <td>1</td>\n",
       "      <td>fDLlAcSmythWSCVMvqvL</td>\n",
       "    </tr>\n",
       "  </tbody>\n",
       "</table>\n",
       "</div>"
      ],
      "text/plain": [
       "                                        session_id              client_id  \\\n",
       "1634675  7860603916475703280.1637099717.1637099717  1830189469.1637097456   \n",
       "1389837  6796535801928771632.1630693682.1630693682      1582441805.163056   \n",
       "1469550  7147666373554620872.1622821320.1622821320      1664195762.162282   \n",
       "722738   3902015431131403080.1622032689.1622032689       908508764.162202   \n",
       "1612288  7761284726180810772.1621889045.1621889045     1807064918.1621888   \n",
       "\n",
       "        visit_number            utm_source   utm_medium          utm_campaign  \\\n",
       "1634675     Very Low  ZpYIoDJMcFzVoPFsHGJL  smartbanner  jqlUOdZBNZYfInQVcZlS   \n",
       "1389837     Very Low  kjsLglQLzykiRbcDiGcD      organic  LTuZkdKfxRGVceoWkVyg   \n",
       "1469550     Very Low  fDLlAcSmythWSCVMvqvL       (none)  LTuZkdKfxRGVceoWkVyg   \n",
       "722738      Very Low  fDLlAcSmythWSCVMvqvL       (none)  LTuZkdKfxRGVceoWkVyg   \n",
       "1612288     Very Low  fDLlAcSmythWSCVMvqvL       (none)  LTuZkdKfxRGVceoWkVyg   \n",
       "\n",
       "                utm_adcontent device_category device_brand  \\\n",
       "1634675  EteMoEECGsaJeMnuvAZD          mobile      Samsung   \n",
       "1389837  JNHcPlZPxEMWDnRiyoBf          mobile       Xiaomi   \n",
       "1469550  JNHcPlZPxEMWDnRiyoBf          mobile        Apple   \n",
       "722738   JNHcPlZPxEMWDnRiyoBf          mobile       Xiaomi   \n",
       "1612288  JNHcPlZPxEMWDnRiyoBf          mobile        Apple   \n",
       "\n",
       "        device_screen_resolution device_browser         geo_city  \\\n",
       "1634675                  412x915         Chrome           Moscow   \n",
       "1389837                  393x818         Chrome        (not set)   \n",
       "1469550                  414x896      YaBrowser  Nizhny Novgorod   \n",
       "722738                   360x640         Chrome    Yekaterinburg   \n",
       "1612288                  414x896         Safari           Moscow   \n",
       "\n",
       "         event_action  visit_hour part_of_day  day_of_week  is_weekend  \\\n",
       "1634675             0           0       Night            2           0   \n",
       "1389837             0          21     Evening            4           0   \n",
       "1469550             0          18   Afternoon            4           0   \n",
       "722738              0          15   Afternoon            2           0   \n",
       "1612288             0          23     Evening            0           0   \n",
       "\n",
       "         visit_counts_by_source  preferred_utm_source  \n",
       "1634675                       3  ZpYIoDJMcFzVoPFsHGJL  \n",
       "1389837                       2  kjsLglQLzykiRbcDiGcD  \n",
       "1469550                       2  fDLlAcSmythWSCVMvqvL  \n",
       "722738                        5  fDLlAcSmythWSCVMvqvL  \n",
       "1612288                       1  fDLlAcSmythWSCVMvqvL  "
      ]
     },
     "execution_count": 8,
     "metadata": {},
     "output_type": "execute_result"
    }
   ],
   "source": [
    "new_data.head()"
   ]
  },
  {
   "cell_type": "code",
   "execution_count": 9,
   "metadata": {},
   "outputs": [],
   "source": [
    "X = new_data.drop(['session_id', 'client_id', 'event_action'], axis=1)\n",
    "y = new_data[['event_action']]\n",
    "\n",
    "# Splitting the data into training and testing sets\n",
    "X_train, X_test, y_train, y_test = train_test_split(X, y, test_size=0.3, random_state=42, stratify=y)"
   ]
  },
  {
   "cell_type": "code",
   "execution_count": 10,
   "metadata": {},
   "outputs": [],
   "source": [
    "columns = ['utm_source',\n",
    "           'utm_medium',\n",
    "           'utm_campaign',\n",
    "           'utm_adcontent',\n",
    "           'device_category',\n",
    "           'device_brand',\n",
    "           'device_screen_resolution',\n",
    "           'device_browser',\n",
    "           'geo_city']"
   ]
  },
  {
   "cell_type": "code",
   "execution_count": 11,
   "metadata": {},
   "outputs": [],
   "source": [
    "class ProbabilityEncoder:\n",
    "    \"\"\"\n",
    "    Класс для кодирования категориальных переменных путем вычисления и добавления вероятности целевого события.\n",
    "\n",
    "    Параметры:\n",
    "    columns (list): Список столбцов для кодирования. Если None, будут использоваться все столбцы.\n",
    "    target (str): Имя столбца целевой переменной. Если None, будет использоваться последний столбец.\n",
    "    id_column (str): Имя столбца идентификатора. Если None, будет использоваться первый столбец.\n",
    "\n",
    "    Атрибуты:\n",
    "    percentage_dicts (dict): Словари, содержащие вычисленные вероятности для каждого столбца.\n",
    "    \"\"\"\n",
    "    def __init__(self, columns=None, target=None, id_column=None):\n",
    "        self.columns = columns\n",
    "        self.target = target\n",
    "        self.id_column = id_column\n",
    "        self.percentage_dicts = {}\n",
    "\n",
    "    def fit(self, data):\n",
    "        \"\"\"\n",
    "        Вычисляет вероятности целевого события для каждого уникального значения в выбранных столбцах.\n",
    "        \"\"\"\n",
    "        data = data.copy()\n",
    "        self.columns = self.columns if self.columns else data.columns.tolist()\n",
    "        self.id_column = self.id_column if self.id_column else data.columns[0]\n",
    "        self.target = self.target if self.target else data.columns[-1]\n",
    "\n",
    "        for column in self.columns:\n",
    "            total_counts = data.groupby(column)[self.target].count()\n",
    "            positive_counts = data.groupby(column)[self.target].sum()\n",
    "            percentages = (positive_counts / total_counts) * 100\n",
    "            self.percentage_dicts[column] = percentages.to_dict()\n",
    "\n",
    "        return self\n",
    "\n",
    "    def transform(self, data):\n",
    "        \"\"\"\n",
    "        Преобразует выбранные столбцы в соответствии с вычисленными вероятностями.\n",
    "        \"\"\"\n",
    "        data = data.copy()\n",
    "        for column, percentages in self.percentage_dicts.items():\n",
    "            data[column] = data[column].map(percentages).fillna(0)\n",
    "\n",
    "        return data\n",
    "\n",
    "    def fit_transform(self, data):\n",
    "        \"\"\"\n",
    "        Вычисляет вероятности и преобразует выбранные столбцы в одном шаге.\n",
    "        \"\"\"\n",
    "        self.fit(data)\n",
    "        return self.transform(data)"
   ]
  },
  {
   "cell_type": "code",
   "execution_count": 15,
   "metadata": {},
   "outputs": [],
   "source": [
    "prob_encoder = ProbabilityEncoder(columns=columns, target='event_action', id_column='client_id')"
   ]
  },
  {
   "cell_type": "code",
   "execution_count": 17,
   "metadata": {},
   "outputs": [],
   "source": [
    "# Добавляем целевой столбец обратно в X_train перед fit_transform\n",
    "X_train_with_target = X_train.copy()\n",
    "X_train_with_target['event_action'] = y_train\n",
    "\n",
    "# Обучаем encoder на обучающих данных и преобразуем их\n",
    "X_train_encoded = prob_encoder.fit_transform(X_train_with_target)\n",
    "\n",
    "# Удаляем целевой столбец\n",
    "X_train_encoded = X_train_encoded.drop('event_action', axis=1)"
   ]
  },
  {
   "cell_type": "code",
   "execution_count": 18,
   "metadata": {},
   "outputs": [],
   "source": [
    "X_test_encoded = prob_encoder.transform(X_test)"
   ]
  },
  {
   "cell_type": "code",
   "execution_count": 19,
   "metadata": {},
   "outputs": [],
   "source": [
    "# Создание экземпляра класса\n",
    "preprocessor = DataPreprocessor()"
   ]
  },
  {
   "cell_type": "code",
   "execution_count": 21,
   "metadata": {},
   "outputs": [
    {
     "data": {
      "text/plain": [
       "<data_processing.DataPreprocessor at 0x282ed2acd00>"
      ]
     },
     "execution_count": 21,
     "metadata": {},
     "output_type": "execute_result"
    }
   ],
   "source": [
    "# Обучение преобразований на обучающих данных\n",
    "preprocessor.fit(X_train_encoded)"
   ]
  },
  {
   "cell_type": "code",
   "execution_count": 22,
   "metadata": {},
   "outputs": [],
   "source": [
    "# Применение обученных преобразований к обучающим и тестовым данным\n",
    "X_train_transformed = preprocessor.transform(X_train_encoded)\n",
    "X_test_transformed = preprocessor.transform(X_test_encoded)"
   ]
  },
  {
   "cell_type": "code",
   "execution_count": 23,
   "metadata": {},
   "outputs": [],
   "source": [
    "class ModelTrainer:\n",
    "    def __init__(self, task_type='regression', balance=False, models=None, n_jobs=-1):\n",
    "        \"\"\"\n",
    "        Initialize the ModelTrainer.\n",
    "\n",
    "        :param task_type: The type of task ('regression' or 'classification').\n",
    "        :param balance: Boolean value indicating whether to use class balancing for classification tasks.\n",
    "        :param models: List of model names to use. If None, all available models will be used.\n",
    "        :param n_jobs: Number of CPU cores to use for parallel processing (if supported by models).\n",
    "        \"\"\"\n",
    "        self.task_type = task_type\n",
    "        self.balance = balance\n",
    "        self.n_jobs = n_jobs\n",
    "        self.models = self._get_models(models)\n",
    "        self.trained_models = {}\n",
    "        self.score_func = mean_squared_error if task_type == 'regression' else roc_auc_score\n",
    "        if self.balance:\n",
    "            self.sampler = SMOTE()\n",
    "\n",
    "    def _get_models(self, models):\n",
    "        regression_models = {\n",
    "            'LinearRegression': LinearRegression(),\n",
    "            'RandomForestRegressor': RandomForestRegressor(n_jobs=self.n_jobs),\n",
    "            'GradientBoostingRegressor': GradientBoostingRegressor(),\n",
    "            'CatBoostRegressor': CatBoostRegressor(silent=True)\n",
    "        }\n",
    "\n",
    "        classification_models = {\n",
    "            'LogisticRegression': LogisticRegression(),\n",
    "            'RandomForestClassifier': RandomForestClassifier(n_jobs=self.n_jobs),\n",
    "            'GradientBoostingClassifier': GradientBoostingClassifier(),\n",
    "            'CatBoostClassifier': CatBoostClassifier(silent=True),\n",
    "            'LGBMClassifier': LGBMClassifier(n_jobs=self.n_jobs)\n",
    "        }\n",
    "\n",
    "        models_dict = classification_models if self.task_type == 'classification' else regression_models\n",
    "        models = models_dict.keys() if models is None else [model for model in models if model in models_dict]\n",
    "        return [models_dict[model_name] for model_name in models]\n",
    "\n",
    "    def train_and_evaluate(self, X_train, y_train, X_test, y_test):\n",
    "        \"\"\"\n",
    "        Train and evaluate the models using the provided data.\n",
    "\n",
    "        :param X_train: Training data features.\n",
    "        :param y_train: Training data labels.\n",
    "        :param X_test: Test data features.\n",
    "        :param y_test: Test data labels.\n",
    "        :return: The best model and a dictionary of all trained models.\n",
    "        \"\"\"\n",
    "        best_model, best_score = None, -float('inf')\n",
    "        for model in self.models:\n",
    "            try:\n",
    "                if self.balance and self.task_type == 'classification':\n",
    "                    X_train, y_train = self._apply_balance_strategy(model, X_train, y_train)\n",
    "                model.fit(X_train, y_train)\n",
    "                score = self._evaluate(model, X_test, y_test)\n",
    "                self.trained_models[type(model).__name__] = model\n",
    "                if score > best_score:\n",
    "                    best_model, best_score = model, score\n",
    "            except NotFittedError as e:\n",
    "                print(f\"Model {type(model).__name__} could not be fitted. Error: {str(e)}\")\n",
    "        print(f\"\\nBest model: {type(best_model).__name__}, with Score: {best_score}\")\n",
    "        return best_model, self.trained_models\n",
    "\n",
    "    def _apply_balance_strategy(self, model, X_train, y_train):\n",
    "        balance_strategies = {\n",
    "            LogisticRegression: lambda x, y: (x, y, {'class_weight': 'balanced'}),\n",
    "            RandomForestClassifier: lambda x, y: (x, y, {'class_weight': 'balanced'}),\n",
    "            LGBMClassifier: lambda x, y: (x, y, {'class_weight': 'balanced'}),\n",
    "            GradientBoostingClassifier: lambda x, y: (*self.sampler.fit_resample(x, y), {}),\n",
    "            CatBoostClassifier: lambda x, y: (*self.sampler.fit_resample(x, y), {})\n",
    "        }\n",
    "        strategy = balance_strategies.get(type(model), lambda x, y: (x, y, {}))\n",
    "        X_train, y_train, params = strategy(X_train, y_train)\n",
    "        model.set_params(**params)\n",
    "        return X_train, y_train\n",
    "\n",
    "    def _evaluate(self, model, X_test, y_test):\n",
    "        \"\"\"\n",
    "        Evaluate the model using the appropriate scoring function.\n",
    "\n",
    "        :param model: The model to be evaluated.\n",
    "        :param X_test: Test data features.\n",
    "        :param y_test: Test data labels.\n",
    "        :return: The evaluation score.\n",
    "        \"\"\"\n",
    "        y_pred = model.predict(X_test)\n",
    "        model_name = type(model).__name__\n",
    "\n",
    "        if model_name == 'LogisticRegression':\n",
    "            score_func = roc_auc_score\n",
    "        else:\n",
    "            score_func = self.score_func\n",
    "\n",
    "        score = score_func(y_test, y_pred)\n",
    "        metric_name = 'ROC_AUC' if model_name == 'LogisticRegression' else 'MSE' if self.task_type == 'regression' else 'Unknown Metric'\n",
    "        print(f\"Model: {model_name}, {metric_name}: {score}\")\n",
    "        return score"
   ]
  },
  {
   "cell_type": "code",
   "execution_count": 24,
   "metadata": {},
   "outputs": [],
   "source": [
    "trainer = ModelTrainer(task_type='classification', balance=True,  n_jobs=-1)"
   ]
  },
  {
   "cell_type": "code",
   "execution_count": 25,
   "metadata": {},
   "outputs": [
    {
     "name": "stdout",
     "output_type": "stream",
     "text": [
      "Model: LogisticRegression, ROC_AUC: 0.6224318123124811\n",
      "Model: RandomForestClassifier, Unknown Metric: 0.5154509220213606\n",
      "Model: GradientBoostingClassifier, Unknown Metric: 0.7660623065582917\n",
      "Model: CatBoostClassifier, Unknown Metric: 0.5177129730718235\n",
      "[LightGBM] [Info] Number of positive: 1022206, number of negative: 1022206\n",
      "[LightGBM] [Warning] Auto-choosing row-wise multi-threading, the overhead of testing was 1.558871 seconds.\n",
      "You can set `force_row_wise=true` to remove the overhead.\n",
      "And if memory is not enough, you can set `force_col_wise=true`.\n",
      "[LightGBM] [Info] Total Bins 8055\n",
      "[LightGBM] [Info] Number of data points in the train set: 2044412, number of used features: 164\n",
      "[LightGBM] [Info] [binary:BoostFromScore]: pavg=0.500000 -> initscore=0.000000\n",
      "Model: LGBMClassifier, Unknown Metric: 0.5560397523902211\n",
      "\n",
      "Best model: GradientBoostingClassifier, with Score: 0.7660623065582917\n"
     ]
    }
   ],
   "source": [
    "best_model, trained_models = trainer.train_and_evaluate(X_train_transformed, y_train, X_test_transformed, y_test)"
   ]
  },
  {
   "cell_type": "code",
   "execution_count": 26,
   "metadata": {},
   "outputs": [],
   "source": [
    "import joblib\n",
    "\n",
    "# Сохраняем модели\n",
    "for model_name, model in trained_models.items():\n",
    "    joblib.dump(model, f\"{model_name}.joblib\")"
   ]
  },
  {
   "cell_type": "code",
   "execution_count": 35,
   "metadata": {},
   "outputs": [],
   "source": [
    "def plot_model(X_test, y_test, model=None, visualize=True):\n",
    "    y_pred = model.predict(X_test)\n",
    "    roc_auc = roc_auc_score(y_test, y_pred)\n",
    "\n",
    "    print(f\"\\nROC AUC Score:\\n{roc_auc}\")\n",
    "    df_classification_report = pd.DataFrame(classification_report(y_test, y_pred, output_dict=True)).transpose()\n",
    "\n",
    "    if visualize:\n",
    "        plt.figure(figsize=(8, 6))\n",
    "        sns.heatmap(confusion_matrix(y_test, y_pred), annot=True, fmt=\"d\")\n",
    "        plt.title(\"Confusion Matrix\")\n",
    "        plt.xlabel(\"Predicted class\")\n",
    "        plt.ylabel(\"True class\")\n",
    "        plt.show()\n",
    "\n",
    "        fpr, tpr, thresholds = roc_curve(y_test, model.predict_proba(X_test)[:, 1])\n",
    "        plt.figure()\n",
    "        plt.plot(fpr, tpr, label='ROC curve (area = %0.2f)' % auc(fpr, tpr))\n",
    "        plt.plot([0, 1], [0, 1], 'k--')\n",
    "        plt.xlim([0.0, 1.0])\n",
    "        plt.ylim([0.0, 1.05])\n",
    "        plt.xlabel('False Positive Rate')\n",
    "        plt.ylabel('True Positive Rate')\n",
    "        plt.title('Receiver Operating Characteristic')\n",
    "        plt.legend(loc=\"lower right\")\n",
    "        plt.show()\n",
    "    else:\n",
    "        print(f\"\\nConfusion Matrix:\\n{confusion_matrix(y_test, y_pred)}\")\n",
    "\n",
    "    print(\"\\nClassification Report:\")\n",
    "    display(df_classification_report)\n",
    "    print(f\"{'=='*40}\\n\")\n",
    "\n",
    "    return roc_auc"
   ]
  },
  {
   "cell_type": "code",
   "execution_count": 36,
   "metadata": {},
   "outputs": [
    {
     "name": "stdout",
     "output_type": "stream",
     "text": [
      "Results for LogisticRegression:\n",
      "\n",
      "ROC AUC Score:\n",
      "0.6224318123124811\n"
     ]
    },
    {
     "data": {
      "image/png": "[encoded data removed]",
      "text/plain": [
       "<Figure size 576x432 with 2 Axes>"
      ]
     },
     "metadata": {
      "needs_background": "light"
     },
     "output_type": "display_data"
    },
    {
     "data": {
      "image/png": "[encoded data removed]",
      "text/plain": [
       "<Figure size 432x288 with 1 Axes>"
      ]
     },
     "metadata": {
      "needs_background": "light"
     },
     "output_type": "display_data"
    },
    {
     "name": "stdout",
     "output_type": "stream",
     "text": [
      "\n",
      "Classification Report:\n"
     ]
    },
    {
     "data": {
      "text/html": [
       "<div>\n",
       "<style scoped>\n",
       "    .dataframe tbody tr th:only-of-type {\n",
       "        vertical-align: middle;\n",
       "    }\n",
       "\n",
       "    .dataframe tbody tr th {\n",
       "        vertical-align: top;\n",
       "    }\n",
       "\n",
       "    .dataframe thead th {\n",
       "        text-align: right;\n",
       "    }\n",
       "</style>\n",
       "<table border=\"1\" class=\"dataframe\">\n",
       "  <thead>\n",
       "    <tr style=\"text-align: right;\">\n",
       "      <th></th>\n",
       "      <th>precision</th>\n",
       "      <th>recall</th>\n",
       "      <th>f1-score</th>\n",
       "      <th>support</th>\n",
       "    </tr>\n",
       "  </thead>\n",
       "  <tbody>\n",
       "    <tr>\n",
       "      <th>0</th>\n",
       "      <td>0.985130</td>\n",
       "      <td>0.550463</td>\n",
       "      <td>0.706278</td>\n",
       "      <td>438089.000000</td>\n",
       "    </tr>\n",
       "    <tr>\n",
       "      <th>1</th>\n",
       "      <td>0.040305</td>\n",
       "      <td>0.694400</td>\n",
       "      <td>0.076189</td>\n",
       "      <td>11911.000000</td>\n",
       "    </tr>\n",
       "    <tr>\n",
       "      <th>accuracy</th>\n",
       "      <td>0.554273</td>\n",
       "      <td>0.554273</td>\n",
       "      <td>0.554273</td>\n",
       "      <td>0.554273</td>\n",
       "    </tr>\n",
       "    <tr>\n",
       "      <th>macro avg</th>\n",
       "      <td>0.512718</td>\n",
       "      <td>0.622432</td>\n",
       "      <td>0.391233</td>\n",
       "      <td>450000.000000</td>\n",
       "    </tr>\n",
       "    <tr>\n",
       "      <th>weighted avg</th>\n",
       "      <td>0.960122</td>\n",
       "      <td>0.554273</td>\n",
       "      <td>0.689600</td>\n",
       "      <td>450000.000000</td>\n",
       "    </tr>\n",
       "  </tbody>\n",
       "</table>\n",
       "</div>"
      ],
      "text/plain": [
       "              precision    recall  f1-score        support\n",
       "0              0.985130  0.550463  0.706278  438089.000000\n",
       "1              0.040305  0.694400  0.076189   11911.000000\n",
       "accuracy       0.554273  0.554273  0.554273       0.554273\n",
       "macro avg      0.512718  0.622432  0.391233  450000.000000\n",
       "weighted avg   0.960122  0.554273  0.689600  450000.000000"
      ]
     },
     "metadata": {},
     "output_type": "display_data"
    },
    {
     "name": "stdout",
     "output_type": "stream",
     "text": [
      "====================================================================================================\n",
      "\n",
      "Results for RandomForestClassifier:\n",
      "\n",
      "ROC AUC Score:\n",
      "0.5154509220213606\n"
     ]
    },
    {
     "data": {
      "image/png": "[encoded data removed]",
      "text/plain": [
       "<Figure size 576x432 with 2 Axes>"
      ]
     },
     "metadata": {
      "needs_background": "light"
     },
     "output_type": "display_data"
    },
    {
     "data": {
      "image/png": "[encoded data removed]",
      "text/plain": [
       "<Figure size 432x288 with 1 Axes>"
      ]
     },
     "metadata": {
      "needs_background": "light"
     },
     "output_type": "display_data"
    },
    {
     "name": "stdout",
     "output_type": "stream",
     "text": [
      "\n",
      "Classification Report:\n"
     ]
    },
    {
     "data": {
      "text/html": [
       "<div>\n",
       "<style scoped>\n",
       "    .dataframe tbody tr th:only-of-type {\n",
       "        vertical-align: middle;\n",
       "    }\n",
       "\n",
       "    .dataframe tbody tr th {\n",
       "        vertical-align: top;\n",
       "    }\n",
       "\n",
       "    .dataframe thead th {\n",
       "        text-align: right;\n",
       "    }\n",
       "</style>\n",
       "<table border=\"1\" class=\"dataframe\">\n",
       "  <thead>\n",
       "    <tr style=\"text-align: right;\">\n",
       "      <th></th>\n",
       "      <th>precision</th>\n",
       "      <th>recall</th>\n",
       "      <th>f1-score</th>\n",
       "      <th>support</th>\n",
       "    </tr>\n",
       "  </thead>\n",
       "  <tbody>\n",
       "    <tr>\n",
       "      <th>0</th>\n",
       "      <td>0.974349</td>\n",
       "      <td>0.973896</td>\n",
       "      <td>0.974123</td>\n",
       "      <td>438089.000000</td>\n",
       "    </tr>\n",
       "    <tr>\n",
       "      <th>1</th>\n",
       "      <td>0.056046</td>\n",
       "      <td>0.057006</td>\n",
       "      <td>0.056522</td>\n",
       "      <td>11911.000000</td>\n",
       "    </tr>\n",
       "    <tr>\n",
       "      <th>accuracy</th>\n",
       "      <td>0.949627</td>\n",
       "      <td>0.949627</td>\n",
       "      <td>0.949627</td>\n",
       "      <td>0.949627</td>\n",
       "    </tr>\n",
       "    <tr>\n",
       "      <th>macro avg</th>\n",
       "      <td>0.515198</td>\n",
       "      <td>0.515451</td>\n",
       "      <td>0.515322</td>\n",
       "      <td>450000.000000</td>\n",
       "    </tr>\n",
       "    <tr>\n",
       "      <th>weighted avg</th>\n",
       "      <td>0.950043</td>\n",
       "      <td>0.949627</td>\n",
       "      <td>0.949835</td>\n",
       "      <td>450000.000000</td>\n",
       "    </tr>\n",
       "  </tbody>\n",
       "</table>\n",
       "</div>"
      ],
      "text/plain": [
       "              precision    recall  f1-score        support\n",
       "0              0.974349  0.973896  0.974123  438089.000000\n",
       "1              0.056046  0.057006  0.056522   11911.000000\n",
       "accuracy       0.949627  0.949627  0.949627       0.949627\n",
       "macro avg      0.515198  0.515451  0.515322  450000.000000\n",
       "weighted avg   0.950043  0.949627  0.949835  450000.000000"
      ]
     },
     "metadata": {},
     "output_type": "display_data"
    },
    {
     "name": "stdout",
     "output_type": "stream",
     "text": [
      "====================================================================================================\n",
      "\n",
      "Results for GradientBoostingClassifier:\n",
      "\n",
      "ROC AUC Score:\n",
      "0.7660623065582917\n"
     ]
    },
    {
     "data": {
      "image/png": "[encoded data removed]",
      "text/plain": [
       "<Figure size 576x432 with 2 Axes>"
      ]
     },
     "metadata": {
      "needs_background": "light"
     },
     "output_type": "display_data"
    },
    {
     "data": {
      "image/png": "[encoded data removed]",
      "text/plain": [
       "<Figure size 432x288 with 1 Axes>"
      ]
     },
     "metadata": {
      "needs_background": "light"
     },
     "output_type": "display_data"
    },
    {
     "name": "stdout",
     "output_type": "stream",
     "text": [
      "\n",
      "Classification Report:\n"
     ]
    },
    {
     "data": {
      "text/html": [
       "<div>\n",
       "<style scoped>\n",
       "    .dataframe tbody tr th:only-of-type {\n",
       "        vertical-align: middle;\n",
       "    }\n",
       "\n",
       "    .dataframe tbody tr th {\n",
       "        vertical-align: top;\n",
       "    }\n",
       "\n",
       "    .dataframe thead th {\n",
       "        text-align: right;\n",
       "    }\n",
       "</style>\n",
       "<table border=\"1\" class=\"dataframe\">\n",
       "  <thead>\n",
       "    <tr style=\"text-align: right;\">\n",
       "      <th></th>\n",
       "      <th>precision</th>\n",
       "      <th>recall</th>\n",
       "      <th>f1-score</th>\n",
       "      <th>support</th>\n",
       "    </tr>\n",
       "  </thead>\n",
       "  <tbody>\n",
       "    <tr>\n",
       "      <th>0</th>\n",
       "      <td>0.990172</td>\n",
       "      <td>0.838060</td>\n",
       "      <td>0.907788</td>\n",
       "      <td>438089.000000</td>\n",
       "    </tr>\n",
       "    <tr>\n",
       "      <th>1</th>\n",
       "      <td>0.104367</td>\n",
       "      <td>0.694064</td>\n",
       "      <td>0.181449</td>\n",
       "      <td>11911.000000</td>\n",
       "    </tr>\n",
       "    <tr>\n",
       "      <th>accuracy</th>\n",
       "      <td>0.834249</td>\n",
       "      <td>0.834249</td>\n",
       "      <td>0.834249</td>\n",
       "      <td>0.834249</td>\n",
       "    </tr>\n",
       "    <tr>\n",
       "      <th>macro avg</th>\n",
       "      <td>0.547270</td>\n",
       "      <td>0.766062</td>\n",
       "      <td>0.544619</td>\n",
       "      <td>450000.000000</td>\n",
       "    </tr>\n",
       "    <tr>\n",
       "      <th>weighted avg</th>\n",
       "      <td>0.966726</td>\n",
       "      <td>0.834249</td>\n",
       "      <td>0.888563</td>\n",
       "      <td>450000.000000</td>\n",
       "    </tr>\n",
       "  </tbody>\n",
       "</table>\n",
       "</div>"
      ],
      "text/plain": [
       "              precision    recall  f1-score        support\n",
       "0              0.990172  0.838060  0.907788  438089.000000\n",
       "1              0.104367  0.694064  0.181449   11911.000000\n",
       "accuracy       0.834249  0.834249  0.834249       0.834249\n",
       "macro avg      0.547270  0.766062  0.544619  450000.000000\n",
       "weighted avg   0.966726  0.834249  0.888563  450000.000000"
      ]
     },
     "metadata": {},
     "output_type": "display_data"
    },
    {
     "name": "stdout",
     "output_type": "stream",
     "text": [
      "====================================================================================================\n",
      "\n",
      "Results for CatBoostClassifier:\n",
      "\n",
      "ROC AUC Score:\n",
      "0.5177129730718235\n"
     ]
    },
    {
     "data": {
      "image/png": "[encoded data removed]",
      "text/plain": [
       "<Figure size 576x432 with 2 Axes>"
      ]
     },
     "metadata": {
      "needs_background": "light"
     },
     "output_type": "display_data"
    },
    {
     "data": {
      "image/png": "[encoded data removed]",
      "text/plain": [
       "<Figure size 432x288 with 1 Axes>"
      ]
     },
     "metadata": {
      "needs_background": "light"
     },
     "output_type": "display_data"
    },
    {
     "name": "stdout",
     "output_type": "stream",
     "text": [
      "\n",
      "Classification Report:\n"
     ]
    },
    {
     "data": {
      "text/html": [
       "<div>\n",
       "<style scoped>\n",
       "    .dataframe tbody tr th:only-of-type {\n",
       "        vertical-align: middle;\n",
       "    }\n",
       "\n",
       "    .dataframe tbody tr th {\n",
       "        vertical-align: top;\n",
       "    }\n",
       "\n",
       "    .dataframe thead th {\n",
       "        text-align: right;\n",
       "    }\n",
       "</style>\n",
       "<table border=\"1\" class=\"dataframe\">\n",
       "  <thead>\n",
       "    <tr style=\"text-align: right;\">\n",
       "      <th></th>\n",
       "      <th>precision</th>\n",
       "      <th>recall</th>\n",
       "      <th>f1-score</th>\n",
       "      <th>support</th>\n",
       "    </tr>\n",
       "  </thead>\n",
       "  <tbody>\n",
       "    <tr>\n",
       "      <th>0</th>\n",
       "      <td>0.974449</td>\n",
       "      <td>0.995211</td>\n",
       "      <td>0.984721</td>\n",
       "      <td>438089.000000</td>\n",
       "    </tr>\n",
       "    <tr>\n",
       "      <th>1</th>\n",
       "      <td>0.185875</td>\n",
       "      <td>0.040215</td>\n",
       "      <td>0.066124</td>\n",
       "      <td>11911.000000</td>\n",
       "    </tr>\n",
       "    <tr>\n",
       "      <th>accuracy</th>\n",
       "      <td>0.969933</td>\n",
       "      <td>0.969933</td>\n",
       "      <td>0.969933</td>\n",
       "      <td>0.969933</td>\n",
       "    </tr>\n",
       "    <tr>\n",
       "      <th>macro avg</th>\n",
       "      <td>0.580162</td>\n",
       "      <td>0.517713</td>\n",
       "      <td>0.525422</td>\n",
       "      <td>450000.000000</td>\n",
       "    </tr>\n",
       "    <tr>\n",
       "      <th>weighted avg</th>\n",
       "      <td>0.953577</td>\n",
       "      <td>0.969933</td>\n",
       "      <td>0.960406</td>\n",
       "      <td>450000.000000</td>\n",
       "    </tr>\n",
       "  </tbody>\n",
       "</table>\n",
       "</div>"
      ],
      "text/plain": [
       "              precision    recall  f1-score        support\n",
       "0              0.974449  0.995211  0.984721  438089.000000\n",
       "1              0.185875  0.040215  0.066124   11911.000000\n",
       "accuracy       0.969933  0.969933  0.969933       0.969933\n",
       "macro avg      0.580162  0.517713  0.525422  450000.000000\n",
       "weighted avg   0.953577  0.969933  0.960406  450000.000000"
      ]
     },
     "metadata": {},
     "output_type": "display_data"
    },
    {
     "name": "stdout",
     "output_type": "stream",
     "text": [
      "====================================================================================================\n",
      "\n",
      "Results for LGBMClassifier:\n",
      "\n",
      "ROC AUC Score:\n",
      "0.5560397523902211\n"
     ]
    },
    {
     "data": {
      "image/png": "[encoded data removed]",
      "text/plain": [
       "<Figure size 576x432 with 2 Axes>"
      ]
     },
     "metadata": {
      "needs_background": "light"
     },
     "output_type": "display_data"
    },
    {
     "data": {
      "image/png": "[encoded data removed]",
      "text/plain": [
       "<Figure size 432x288 with 1 Axes>"
      ]
     },
     "metadata": {
      "needs_background": "light"
     },
     "output_type": "display_data"
    },
    {
     "name": "stdout",
     "output_type": "stream",
     "text": [
      "\n",
      "Classification Report:\n"
     ]
    },
    {
     "data": {
      "text/html": [
       "<div>\n",
       "<style scoped>\n",
       "    .dataframe tbody tr th:only-of-type {\n",
       "        vertical-align: middle;\n",
       "    }\n",
       "\n",
       "    .dataframe tbody tr th {\n",
       "        vertical-align: top;\n",
       "    }\n",
       "\n",
       "    .dataframe thead th {\n",
       "        text-align: right;\n",
       "    }\n",
       "</style>\n",
       "<table border=\"1\" class=\"dataframe\">\n",
       "  <thead>\n",
       "    <tr style=\"text-align: right;\">\n",
       "      <th></th>\n",
       "      <th>precision</th>\n",
       "      <th>recall</th>\n",
       "      <th>f1-score</th>\n",
       "      <th>support</th>\n",
       "    </tr>\n",
       "  </thead>\n",
       "  <tbody>\n",
       "    <tr>\n",
       "      <th>0</th>\n",
       "      <td>0.976485</td>\n",
       "      <td>0.980604</td>\n",
       "      <td>0.978540</td>\n",
       "      <td>438089.000000</td>\n",
       "    </tr>\n",
       "    <tr>\n",
       "      <th>1</th>\n",
       "      <td>0.155620</td>\n",
       "      <td>0.131475</td>\n",
       "      <td>0.142532</td>\n",
       "      <td>11911.000000</td>\n",
       "    </tr>\n",
       "    <tr>\n",
       "      <th>accuracy</th>\n",
       "      <td>0.958129</td>\n",
       "      <td>0.958129</td>\n",
       "      <td>0.958129</td>\n",
       "      <td>0.958129</td>\n",
       "    </tr>\n",
       "    <tr>\n",
       "      <th>macro avg</th>\n",
       "      <td>0.566052</td>\n",
       "      <td>0.556040</td>\n",
       "      <td>0.560536</td>\n",
       "      <td>450000.000000</td>\n",
       "    </tr>\n",
       "    <tr>\n",
       "      <th>weighted avg</th>\n",
       "      <td>0.954758</td>\n",
       "      <td>0.958129</td>\n",
       "      <td>0.956412</td>\n",
       "      <td>450000.000000</td>\n",
       "    </tr>\n",
       "  </tbody>\n",
       "</table>\n",
       "</div>"
      ],
      "text/plain": [
       "              precision    recall  f1-score        support\n",
       "0              0.976485  0.980604  0.978540  438089.000000\n",
       "1              0.155620  0.131475  0.142532   11911.000000\n",
       "accuracy       0.958129  0.958129  0.958129       0.958129\n",
       "macro avg      0.566052  0.556040  0.560536  450000.000000\n",
       "weighted avg   0.954758  0.958129  0.956412  450000.000000"
      ]
     },
     "metadata": {},
     "output_type": "display_data"
    },
    {
     "name": "stdout",
     "output_type": "stream",
     "text": [
      "====================================================================================================\n",
      "\n"
     ]
    }
   ],
   "source": [
    "for model_name, model in trained_models.items():\n",
    "    print(f\"Results for {model_name}:\")\n",
    "    plot_model(X_test_transformed, y_test, model=model, visualize=True)"
   ]
  },
  {
   "cell_type": "code",
   "execution_count": 37,
   "metadata": {},
   "outputs": [
    {
     "name": "stdout",
     "output_type": "stream",
     "text": [
      "Модель LogisticRegression исключена.\n",
      "Количество признаков для модели RandomForestClassifier не совпадает с количеством значений важности.\n",
      "Количество признаков для модели GradientBoostingClassifier не совпадает с количеством значений важности.\n",
      "Количество признаков для модели CatBoostClassifier не совпадает с количеством значений важности.\n",
      "Количество признаков для модели LGBMClassifier не совпадает с количеством значений важности.\n"
     ]
    }
   ],
   "source": [
    "def print_feature_importances(models, X):\n",
    "    feature_names = X.columns\n",
    "    \n",
    "    for name, model in models.items():\n",
    "        if name == \"LogisticRegression\":\n",
    "            print(f\"Модель {name} исключена.\")\n",
    "            continue\n",
    "\n",
    "        try:\n",
    "            importances = model.feature_importances_\n",
    "        except AttributeError:\n",
    "            print(f\"Модель {name} не поддерживает вычисление важности признаков.\")\n",
    "            continue\n",
    "\n",
    "        if len(importances) != len(feature_names):\n",
    "            print(f\"Количество признаков для модели {name} не совпадает с количеством значений важности.\")\n",
    "            continue\n",
    "        \n",
    "        importance_series = pd.Series(importances, index=feature_names)\n",
    "        sorted_importances = importance_series.sort_values(ascending=False)\n",
    "\n",
    "        print(f\"Feature importances for {name}:\")\n",
    "        print(sorted_importances)\n",
    "        print(\"\\n\")\n",
    "\n",
    "    \n",
    "# Предположим, что у нас есть словарь обученных моделей 'trained_models' и исходный DataFrame 'X_train'\n",
    "print_feature_importances(trained_models, X_train)"
   ]
  },
  {
   "cell_type": "code",
   "execution_count": 53,
   "metadata": {},
   "outputs": [],
   "source": [
    "from sklearn.metrics import get_scorer\n",
    "from sklearn.model_selection import GridSearchCV\n",
    "from sklearn.linear_model import LinearRegression, LogisticRegression\n",
    "from sklearn.ensemble import RandomForestRegressor, GradientBoostingRegressor, RandomForestClassifier, GradientBoostingClassifier\n",
    "from catboost import CatBoostRegressor, CatBoostClassifier\n",
    "\n",
    "\n",
    "class ModelOptimizer:\n",
    "    def __init__(self, models=None, cv=5, scorer='roc_auc', balance=False, n_jobs=-1):\n",
    "        self.cv = cv\n",
    "        self.balance = balance\n",
    "        self.n_jobs = n_jobs\n",
    "        self.models = self._get_models(models)\n",
    "        self.param_grids = self._get_param_grids()\n",
    "        self.scorer = get_scorer(scorer)\n",
    "\n",
    "    def _get_models(self, models):\n",
    "        model_classes = {\n",
    "            'LinearRegression': LinearRegression(),\n",
    "            'RandomForestRegressor': RandomForestRegressor(n_jobs=self.n_jobs),\n",
    "            'GradientBoostingRegressor': GradientBoostingRegressor(),\n",
    "            'CatBoostRegressor': CatBoostRegressor(),\n",
    "            'LogisticRegression': LogisticRegression(class_weight='balanced' if self.balance else None, n_jobs=self.n_jobs),\n",
    "            'RandomForestClassifier': RandomForestClassifier(n_jobs=self.n_jobs),\n",
    "            'GradientBoostingClassifier': GradientBoostingClassifier(),\n",
    "            'CatBoostClassifier': CatBoostClassifier(),\n",
    "            'LGBMClassifier': LGBMClassifier()\n",
    "        }\n",
    "        return [model_classes[model] for model in models] if models else [model for model in model_classes.values()]\n",
    "\n",
    "    def _get_param_grids(self):\n",
    "        return {\n",
    "            'RandomForestRegressor': {\n",
    "                \"n_estimators\": [100, 200, 300],\n",
    "                \"max_depth\": [None, 5, 10],\n",
    "                \"min_samples_split\": [2, 5, 10]\n",
    "            },\n",
    "            'GradientBoostingRegressor': {\n",
    "                \"n_estimators\": [100, 200, 300],\n",
    "                \"learning_rate\": [0.01, 0.1, 1.0],\n",
    "                \"subsample\": [0.5, 0.7, 1.0],\n",
    "                \"max_depth\": [3, 7, 9]\n",
    "            },\n",
    "            'CatBoostRegressor': {\n",
    "                \"iterations\": [100, 200, 300],\n",
    "                \"learning_rate\": [0.01, 0.1, 1.0],\n",
    "                \"depth\": [6, 8, 10]\n",
    "            },\n",
    "            'LogisticRegression': {\n",
    "                \"C\": [0.01, 0.1, 1.0],\n",
    "                \"penalty\": ['l1', 'l2']\n",
    "            },\n",
    "            'RandomForestClassifier': {\n",
    "                \"n_estimators\": [100, 200, 300],\n",
    "                \"max_depth\": [None, 5, 10],\n",
    "                \"min_samples_split\": [2, 5, 10]\n",
    "            },\n",
    "            'GradientBoostingClassifier': {\n",
    "                \"n_estimators\": [100, 200, 300],\n",
    "                \"learning_rate\": [0.01, 0.1, 1.0],\n",
    "                \"subsample\": [0.5, 0.7, 1.0],\n",
    "                \"max_depth\": [3, 7, 9]\n",
    "            },\n",
    "            'CatBoostClassifier': {\n",
    "                \"iterations\": [100, 200, 300],\n",
    "                \"learning_rate\": [0.01, 0.1, 1.0],\n",
    "                \"depth\": [6, 8, 10]\n",
    "            },\n",
    "            'LGBMClassifier': {\n",
    "                \"n_estimators\": [100, 200, 300],\n",
    "                \"learning_rate\": [0.01, 0.1, 1.0],\n",
    "                \"max_depth\": [3, 5, 7]}\n",
    "        }\n",
    "\n",
    "    def _is_classification(self):\n",
    "        return any(isinstance(model, (LogisticRegression, RandomForestClassifier, GradientBoostingClassifier, CatBoostClassifier)) for model in self.models)\n",
    "\n",
    "    def optimize(self, X_train, y_train):\n",
    "        self.optimized_models = []  # Создаем пустой список для хранения оптимизированных моделей\n",
    "        best_score = -1\n",
    "\n",
    "        for model in self.models:\n",
    "            model_name = type(model).__name__\n",
    "            print(f\"Optimizing {model_name}...\")\n",
    "            param_grid = self.param_grids.get(model_name, {})\n",
    "            grid_search = GridSearchCV(model, param_grid, cv=self.cv, scoring=self.scorer, n_jobs=self.n_jobs)\n",
    "            try:\n",
    "                grid_search.fit(X_train, y_train)\n",
    "            except Exception as e:\n",
    "                print(f\"An error occurred while fitting {model_name}: {str(e)}\")\n",
    "                continue\n",
    "            params = grid_search.best_params_\n",
    "            score = grid_search.best_score_\n",
    "            print(f\"Best parameters for {model_name}: {params}\")\n",
    "            print(f\"Best score for {model_name}: {score}\")\n",
    "\n",
    "            # Добавляем оптимизированную модель и результаты в список\n",
    "            self.optimized_models.append({\"model\": grid_search.best_estimator_, \"params\": params, \"score\": score})\n",
    "\n",
    "            if score > best_score:\n",
    "                self.best_model = grid_search.best_estimator_\n",
    "                best_score = score\n",
    "\n",
    "        return self.optimized_models\n",
    "\n",
    "\n",
    "    def evaluate(self, X_test, y_test, models):\n",
    "        for model in models:\n",
    "            y_pred = model.predict(X_test)\n",
    "            score = self.scorer(y_test, y_pred if self._is_classification() else y_pred[:, 1])\n",
    "            print(f\"Test score for {type(model).__name__}: {score}\\n\")"
   ]
  },
  {
   "cell_type": "code",
   "execution_count": 54,
   "metadata": {},
   "outputs": [
    {
     "name": "stdout",
     "output_type": "stream",
     "text": [
      "Optimizing LogisticRegression...\n",
      "An error occurred while fitting LogisticRegression: Unable to allocate 25.6 MiB for an array with shape (3360000,) and data type float64\n",
      "Optimizing RandomForestClassifier...\n",
      "An error occurred while fitting RandomForestClassifier: Unable to allocate 25.6 MiB for an array with shape (3360000,) and data type float64\n",
      "Optimizing GradientBoostingClassifier...\n",
      "An error occurred while fitting GradientBoostingClassifier: Unable to allocate 51.3 MiB for an array with shape (13440000,) and data type int32\n",
      "Optimizing CatBoostClassifier...\n",
      "An error occurred while fitting CatBoostClassifier: Unable to allocate 6.41 MiB for an array with shape (840000,) and data type int64\n",
      "Optimizing LGBMClassifier...\n"
     ]
    },
    {
     "name": "stderr",
     "output_type": "stream",
     "text": [
      "exception calling callback for <Future at 0x28296028b20 state=finished raised BrokenProcessPool>\n",
      "joblib.externals.loky.process_executor._RemoteTraceback: \n",
      "\"\"\"\n",
      "Traceback (most recent call last):\n",
      "  File \"c:\\Users\\sanya\\python 3\\lib\\site-packages\\joblib\\externals\\loky\\process_executor.py\", line 391, in _process_worker\n",
      "    call_item = call_queue.get(block=True, timeout=timeout)\n",
      "  File \"c:\\Users\\sanya\\python 3\\lib\\multiprocessing\\queues.py\", line 117, in get\n",
      "    res = self._recv_bytes()\n",
      "  File \"c:\\Users\\sanya\\python 3\\lib\\multiprocessing\\connection.py\", line 221, in recv_bytes\n",
      "    buf = self._recv_bytes(maxlength)\n",
      "  File \"c:\\Users\\sanya\\python 3\\lib\\multiprocessing\\connection.py\", line 323, in _recv_bytes\n",
      "    return self._get_more_data(ov, maxsize)\n",
      "  File \"c:\\Users\\sanya\\python 3\\lib\\multiprocessing\\connection.py\", line 349, in _get_more_data\n",
      "    f.write(ov.getbuffer())\n",
      "MemoryError\n",
      "\"\"\"\n",
      "\n",
      "The above exception was the direct cause of the following exception:\n",
      "\n",
      "Traceback (most recent call last):\n",
      "  File \"c:\\Users\\sanya\\python 3\\lib\\site-packages\\joblib\\externals\\loky\\_base.py\", line 26, in _invoke_callbacks\n",
      "    callback(self)\n",
      "  File \"c:\\Users\\sanya\\python 3\\lib\\site-packages\\joblib\\parallel.py\", line 385, in __call__\n",
      "    self.parallel.dispatch_next()\n",
      "  File \"c:\\Users\\sanya\\python 3\\lib\\site-packages\\joblib\\parallel.py\", line 834, in dispatch_next\n",
      "    if not self.dispatch_one_batch(self._original_iterator):\n",
      "  File \"c:\\Users\\sanya\\python 3\\lib\\site-packages\\joblib\\parallel.py\", line 901, in dispatch_one_batch\n",
      "    self._dispatch(tasks)\n",
      "  File \"c:\\Users\\sanya\\python 3\\lib\\site-packages\\joblib\\parallel.py\", line 819, in _dispatch\n",
      "    job = self._backend.apply_async(batch, callback=cb)\n",
      "  File \"c:\\Users\\sanya\\python 3\\lib\\site-packages\\joblib\\_parallel_backends.py\", line 556, in apply_async\n",
      "    future = self._workers.submit(SafeFunction(func))\n",
      "  File \"c:\\Users\\sanya\\python 3\\lib\\site-packages\\joblib\\externals\\loky\\reusable_executor.py\", line 176, in submit\n",
      "    return super().submit(fn, *args, **kwargs)\n",
      "  File \"c:\\Users\\sanya\\python 3\\lib\\site-packages\\joblib\\externals\\loky\\process_executor.py\", line 1129, in submit\n",
      "    raise self._flags.broken\n",
      "joblib.externals.loky.process_executor.BrokenProcessPool: A task has failed to un-serialize. Please ensure that the arguments of the function are all picklable.\n"
     ]
    },
    {
     "name": "stdout",
     "output_type": "stream",
     "text": [
      "An error occurred while fitting LGBMClassifier: A task has failed to un-serialize. Please ensure that the arguments of the function are all picklable.\n"
     ]
    }
   ],
   "source": [
    "optimizer = ModelOptimizer(models=['LogisticRegression', 'RandomForestClassifier', 'GradientBoostingClassifier', 'CatBoostClassifier', 'LGBMClassifier'])\n",
    "optimized_models = optimizer.optimize(X_train_transformed, y_train)\n",
    "\n",
    "# Вывод результатов оптимизации для каждой модели\n",
    "for result in optimized_models:\n",
    "    model_name = type(result[\"model\"]).__name__\n",
    "    params = result[\"params\"]\n",
    "    score = result[\"score\"]\n",
    "    print(f\"Results for {model_name}:\")\n",
    "    print(f\"Best parameters: {params}\")\n",
    "    print(f\"Best score: {score}\\n\")"
   ]
  },
  {
   "cell_type": "code",
   "execution_count": 45,
   "metadata": {},
   "outputs": [
    {
     "ename": "NameError",
     "evalue": "name 'optimizer' is not defined",
     "output_type": "error",
     "traceback": [
      "\u001b[1;31m---------------------------------------------------------------------------\u001b[0m",
      "\u001b[1;31mNameError\u001b[0m                                 Traceback (most recent call last)",
      "\u001b[1;32m~\\AppData\\Local\\Temp\\ipykernel_5060\\2712949134.py\u001b[0m in \u001b[0;36m<module>\u001b[1;34m\u001b[0m\n\u001b[0;32m      1\u001b[0m \u001b[1;31m# Вызов метода evaluate, передав в него оптимизированные модели\u001b[0m\u001b[1;33m\u001b[0m\u001b[1;33m\u001b[0m\u001b[1;33m\u001b[0m\u001b[0m\n\u001b[1;32m----> 2\u001b[1;33m \u001b[0moptimizer\u001b[0m\u001b[1;33m.\u001b[0m\u001b[0mevaluate\u001b[0m\u001b[1;33m(\u001b[0m\u001b[0mX_test_transformed\u001b[0m\u001b[1;33m,\u001b[0m \u001b[0my_test\u001b[0m\u001b[1;33m,\u001b[0m \u001b[1;33m[\u001b[0m\u001b[0mresult\u001b[0m\u001b[1;33m[\u001b[0m\u001b[1;34m\"model\"\u001b[0m\u001b[1;33m]\u001b[0m \u001b[1;32mfor\u001b[0m \u001b[0mresult\u001b[0m \u001b[1;32min\u001b[0m \u001b[0moptimized_models\u001b[0m\u001b[1;33m]\u001b[0m\u001b[1;33m)\u001b[0m\u001b[1;33m\u001b[0m\u001b[1;33m\u001b[0m\u001b[0m\n\u001b[0m",
      "\u001b[1;31mNameError\u001b[0m: name 'optimizer' is not defined"
     ]
    }
   ],
   "source": [
    "\n",
    "# Вызов метода evaluate, передав в него оптимизированные модели\n",
    "optimizer.evaluate(X_test_transformed, y_test, [result[\"model\"] for result in optimized_models])"
   ]
  }
 ],
 "metadata": {
  "kernelspec": {
   "display_name": "base",
   "language": "python",
   "name": "python3"
  },
  "language_info": {
   "codemirror_mode": {
    "name": "ipython",
    "version": 3
   },
   "file_extension": ".py",
   "mimetype": "text/x-python",
   "name": "python",
   "nbconvert_exporter": "python",
   "pygments_lexer": "ipython3",
   "version": "3.9.1"
  },
  "orig_nbformat": 4
 },
 "nbformat": 4,
 "nbformat_minor": 2
}
